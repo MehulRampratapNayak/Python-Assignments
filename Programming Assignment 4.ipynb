{
 "cells": [
  {
   "cell_type": "markdown",
   "id": "92f37e31",
   "metadata": {},
   "source": [
    "#### 1.Write a Python Program to Find the Factorial of a Number?"
   ]
  },
  {
   "cell_type": "code",
   "execution_count": 27,
   "id": "4e3fbe1d",
   "metadata": {},
   "outputs": [
    {
     "name": "stdout",
     "output_type": "stream",
     "text": [
      "Enter a Number for Which you want Factorial : 5\n",
      "120 is the factorial of 5\n"
     ]
    }
   ],
   "source": [
    "import math\n",
    "def factorial_of_number(num):\n",
    "    print (math.factorial(num),'is the factorial of', num)\n",
    "   \n",
    "\n",
    "\n",
    "num=int(input('Enter a Number for Which you want Factorial : '))\n",
    "factorial_of_number(num)\n",
    "    "
   ]
  },
  {
   "cell_type": "code",
   "execution_count": 28,
   "id": "078d25d2",
   "metadata": {},
   "outputs": [
    {
     "name": "stdout",
     "output_type": "stream",
     "text": [
      "Enter a Number for Which you want Factorial : 87\n",
      "2107757298379527717213600518699389595229783738061356212322972511214654115727593174080683423236414793504734471782400000000000000000000 is the factorial of 87\n"
     ]
    }
   ],
   "source": [
    "num=int(input('Enter a Number for Which you want Factorial : '))\n",
    "factorial_of_number(num)"
   ]
  },
  {
   "cell_type": "code",
   "execution_count": 29,
   "id": "3f031613",
   "metadata": {},
   "outputs": [
    {
     "name": "stdout",
     "output_type": "stream",
     "text": [
      "Enter a Number for Which you want Factorial : 10\n",
      "3628800 is the factorial of 10\n"
     ]
    }
   ],
   "source": [
    "num=int(input('Enter a Number for Which you want Factorial : '))\n",
    "factorial_of_number(num)"
   ]
  },
  {
   "cell_type": "markdown",
   "id": "fa96e5bd",
   "metadata": {},
   "source": [
    "#### 2.Write a Python Program to Display the multiplication Table?"
   ]
  },
  {
   "cell_type": "code",
   "execution_count": 42,
   "id": "2c4086aa",
   "metadata": {},
   "outputs": [
    {
     "name": "stdout",
     "output_type": "stream",
     "text": [
      "Enter a number: 5\n",
      "Enter no of entries: 5\n",
      "5 X 1=5\n",
      "5 X 2=10\n",
      "5 X 3=15\n",
      "5 X 4=20\n",
      "5 X 5=25\n"
     ]
    }
   ],
   "source": [
    "def Multplication_Table(tableno,entries):\n",
    "    for i in range(1,entries+1):\n",
    "        print(f'{tableno} X {i}={tableno*i}')\n",
    "              \n",
    "              \n",
    "tableno = int(input('Enter a number: '))\n",
    "entries = int(input('Enter no of entries: '))\n",
    "Multplication_Table(tableno,entries)"
   ]
  },
  {
   "cell_type": "markdown",
   "id": "36d636a5",
   "metadata": {},
   "source": [
    "#### 3.Write a Python Program to Print the Fibonacci sequence?"
   ]
  },
  {
   "cell_type": "code",
   "execution_count": 47,
   "id": "59f886c9",
   "metadata": {},
   "outputs": [
    {
     "name": "stdout",
     "output_type": "stream",
     "text": [
      "Enter a Number: 5\n"
     ]
    },
    {
     "data": {
      "text/plain": [
       "[0, 1, 1, 2, 3]"
      ]
     },
     "execution_count": 47,
     "metadata": {},
     "output_type": "execute_result"
    }
   ],
   "source": [
    "def genfib(n):\n",
    "    a=0\n",
    "    b=1\n",
    "    l=[]\n",
    "    for i in range(n):\n",
    "        l.append(a)\n",
    "        a,b=b,a+b\n",
    "    return l\n",
    "n=int(input('Enter a Number: '))\n",
    "genfib(n)"
   ]
  },
  {
   "cell_type": "code",
   "execution_count": 48,
   "id": "5eb7f5ce",
   "metadata": {},
   "outputs": [
    {
     "name": "stdout",
     "output_type": "stream",
     "text": [
      "Enter a Number: 10\n"
     ]
    },
    {
     "data": {
      "text/plain": [
       "[0, 1, 1, 2, 3, 5, 8, 13, 21, 34]"
      ]
     },
     "execution_count": 48,
     "metadata": {},
     "output_type": "execute_result"
    }
   ],
   "source": [
    "n=int(input('Enter a Number: '))\n",
    "genfib(n)"
   ]
  },
  {
   "cell_type": "markdown",
   "id": "7043f159",
   "metadata": {},
   "source": [
    "#### 4.Write a Python Program to Check Armstrong Number?"
   ]
  },
  {
   "cell_type": "code",
   "execution_count": 79,
   "id": "696b30b6",
   "metadata": {},
   "outputs": [
    {
     "name": "stdout",
     "output_type": "stream",
     "text": [
      "Enter a number: 100\n",
      "100 is a Not Armstrong Number\n"
     ]
    }
   ],
   "source": [
    "def checkArmstrongNumber():\n",
    "    sum = 0\n",
    "    for char in range(len(in_num)):\n",
    "        sum = sum + pow(int(in_num[char]),3)\n",
    "    if sum == int(in_num):\n",
    "        print(f'{in_num} is a Armstrong Number')\n",
    "    else:\n",
    "        print(f'{in_num} is a Not Armstrong Number')\n",
    "\n",
    "in_num =input('Enter a number: ')   \n",
    "\n",
    "\n",
    "checkArmstrongNumber()\n",
    "    "
   ]
  },
  {
   "cell_type": "markdown",
   "id": "f26cf3cb",
   "metadata": {},
   "source": [
    "#### 5.Write a Python Program to Find Armstrong Number in an Interval?"
   ]
  },
  {
   "cell_type": "code",
   "execution_count": 77,
   "id": "31110cef",
   "metadata": {},
   "outputs": [
    {
     "name": "stdout",
     "output_type": "stream",
     "text": [
      "Enter the Start of the Interval: 100\n",
      "Enter the End of the Interval: 1000\n",
      "The Armstrong numbers between 100 and 1000 are [153, 370, 371, 407]\n"
     ]
    }
   ],
   "source": [
    "def checkArmstrongNumber(in_num, storage):\n",
    "    sum = 0\n",
    "    for char in range(len(in_num)):\n",
    "        sum = sum + pow(int(in_num[char]),3)\n",
    "    if sum == int(in_num):\n",
    "        storage.append(int(in_num))\n",
    "\n",
    "start_interval = int(input('Enter the Start of the Interval: '))\n",
    "end_interval = int(input('Enter the End of the Interval: '))\n",
    "list_of_armstrong = []\n",
    "\n",
    "if start_interval > end_interval:\n",
    "    print(\"Start Interval Cannot be Greater than End Interval\")\n",
    "else:\n",
    "    for number in range(start_interval,end_interval+1):\n",
    "        checkArmstrongNumber(str(number),list_of_armstrong)\n",
    "    print(f'The Armstrong numbers between {start_interval} and {end_interval} are {list_of_armstrong}')"
   ]
  },
  {
   "cell_type": "markdown",
   "id": "ff500206",
   "metadata": {},
   "source": [
    "#### 6.Write a Python Program to Find the Sum of Natural Numbers?"
   ]
  },
  {
   "cell_type": "code",
   "execution_count": 75,
   "id": "1a6a1e45",
   "metadata": {},
   "outputs": [
    {
     "name": "stdout",
     "output_type": "stream",
     "text": [
      "Enter a number: 9\n",
      "Sum of 9 natural numbers is 45.0\n"
     ]
    }
   ],
   "source": [
    "def sumOfNaturalNumbers(num):\n",
    "    sum = num*((num+1)/2)\n",
    "    print(f'Sum of {num} natural numbers is {sum}')\n",
    "    \n",
    "num = int(input('Enter a number: '))\n",
    "sumOfNaturalNumbers(num)"
   ]
  },
  {
   "cell_type": "code",
   "execution_count": null,
   "id": "5173dad3",
   "metadata": {},
   "outputs": [],
   "source": []
  },
  {
   "cell_type": "code",
   "execution_count": null,
   "id": "9063ec95",
   "metadata": {},
   "outputs": [],
   "source": []
  }
 ],
 "metadata": {
  "kernelspec": {
   "display_name": "Python 3 (ipykernel)",
   "language": "python",
   "name": "python3"
  },
  "language_info": {
   "codemirror_mode": {
    "name": "ipython",
    "version": 3
   },
   "file_extension": ".py",
   "mimetype": "text/x-python",
   "name": "python",
   "nbconvert_exporter": "python",
   "pygments_lexer": "ipython3",
   "version": "3.9.7"
  }
 },
 "nbformat": 4,
 "nbformat_minor": 5
}
