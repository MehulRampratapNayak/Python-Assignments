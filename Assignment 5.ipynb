{
 "cells": [
  {
   "cell_type": "markdown",
   "id": "85f312e2",
   "metadata": {},
   "source": [
    "#### 1. What does an empty dictionary's code look like?"
   ]
  },
  {
   "cell_type": "markdown",
   "id": "ca5e4e10",
   "metadata": {},
   "source": [
    "**Ans:**  An empty dictionary is often represented by 2 empty curly brackets\n",
    "    dictionary={} or a=dict()"
   ]
  },
  {
   "cell_type": "code",
   "execution_count": 3,
   "id": "f622ff79",
   "metadata": {},
   "outputs": [
    {
     "name": "stdout",
     "output_type": "stream",
     "text": [
      "{}\n",
      "Length: 0\n",
      "<class 'dict'>\n"
     ]
    }
   ],
   "source": [
    "# Python3 code to demonstrate use of\n",
    "# {} symbol to initialize dictionary\n",
    "emptyDictionary = {}\n",
    " \n",
    "# print dictionary\n",
    "print(emptyDictionary)\n",
    " \n",
    "# print length of dictionary\n",
    "print(\"Length:\", len(emptyDictionary))\n",
    " \n",
    "# print type\n",
    "print(type(emptyDictionary))"
   ]
  },
  {
   "cell_type": "markdown",
   "id": "33a8547f",
   "metadata": {},
   "source": [
    "#### 2. What is the value of a dictionary value with the key 'foo' and the value 42?"
   ]
  },
  {
   "cell_type": "code",
   "execution_count": 6,
   "id": "20f63b6d",
   "metadata": {},
   "outputs": [],
   "source": [
    "a={'foo': 42}"
   ]
  },
  {
   "cell_type": "code",
   "execution_count": 7,
   "id": "5d4344bb",
   "metadata": {},
   "outputs": [
    {
     "data": {
      "text/plain": [
       "dict_values([42])"
      ]
     },
     "execution_count": 7,
     "metadata": {},
     "output_type": "execute_result"
    }
   ],
   "source": [
    "a.values()"
   ]
  },
  {
   "cell_type": "markdown",
   "id": "c23f6ce4",
   "metadata": {},
   "source": [
    "#### 3. What is the most significant distinction between a dictionary and a list?"
   ]
  },
  {
   "cell_type": "markdown",
   "id": "134cebb4",
   "metadata": {},
   "source": [
    "**Ans:** 1. An Dictionary stores the value in the form of key & Values but a list doesn't store data in in such format\n",
    "         2. An dictionary is represented by {  },but list are represented by [  ]\n",
    "         "
   ]
  },
  {
   "cell_type": "code",
   "execution_count": 9,
   "id": "7461c864",
   "metadata": {},
   "outputs": [],
   "source": [
    "# example of list\n",
    "a=[1,2,3,4,5]\n",
    "\n",
    "#example of dictionary\n",
    "b={'name':'mehul','age':25,'gender':'male'}"
   ]
  },
  {
   "cell_type": "markdown",
   "id": "c5c23f61",
   "metadata": {},
   "source": [
    "#### 4. What happens if you try to access spam['foo'] if spam is {'bar': 100}?"
   ]
  },
  {
   "cell_type": "markdown",
   "id": "9f4d7ebd",
   "metadata": {},
   "source": [
    "**Ans:** We will get KeyError:'foo'"
   ]
  },
  {
   "cell_type": "code",
   "execution_count": 18,
   "id": "0716346e",
   "metadata": {},
   "outputs": [
    {
     "ename": "KeyError",
     "evalue": "'foo'",
     "output_type": "error",
     "traceback": [
      "\u001b[1;31m---------------------------------------------------------------------------\u001b[0m",
      "\u001b[1;31mKeyError\u001b[0m                                  Traceback (most recent call last)",
      "\u001b[1;32m~\\AppData\\Local\\Temp/ipykernel_14308/2977207769.py\u001b[0m in \u001b[0;36m<module>\u001b[1;34m\u001b[0m\n\u001b[0;32m      1\u001b[0m \u001b[0mspam\u001b[0m\u001b[1;33m=\u001b[0m\u001b[1;33m{\u001b[0m\u001b[1;34m'bar'\u001b[0m\u001b[1;33m:\u001b[0m \u001b[1;36m100\u001b[0m\u001b[1;33m}\u001b[0m\u001b[1;33m\u001b[0m\u001b[1;33m\u001b[0m\u001b[0m\n\u001b[1;32m----> 2\u001b[1;33m \u001b[0mspam\u001b[0m\u001b[1;33m[\u001b[0m\u001b[1;34m'foo'\u001b[0m\u001b[1;33m]\u001b[0m\u001b[1;33m\u001b[0m\u001b[1;33m\u001b[0m\u001b[0m\n\u001b[0m",
      "\u001b[1;31mKeyError\u001b[0m: 'foo'"
     ]
    }
   ],
   "source": [
    "spam={'bar': 100}\n",
    "spam['foo']"
   ]
  },
  {
   "cell_type": "markdown",
   "id": "5ded58be",
   "metadata": {},
   "source": [
    "#### 5. If a dictionary is stored in spam, what is the difference between the expressions 'cat' in spam and 'cat' in spam.keys()?"
   ]
  },
  {
   "cell_type": "markdown",
   "id": "6279b5ef",
   "metadata": {},
   "source": [
    "**Ans:** There is no difference . The operator checks whether a value exits as a key in the dictionary or not."
   ]
  },
  {
   "cell_type": "markdown",
   "id": "594c548c",
   "metadata": {},
   "source": [
    "#### 6. If a dictionary is stored in spam, what is the difference between the expressions 'cat' in spam and 'cat' in spam.values()?"
   ]
  },
  {
   "cell_type": "markdown",
   "id": "0feb30e3",
   "metadata": {},
   "source": [
    "**Ans:**'cat' in spam checks whether there is a 'cat' key in the dictionary, while 'cat' in spam.values() checks whether there is a value 'cat' for one of the keys in spam.\n"
   ]
  },
  {
   "cell_type": "markdown",
   "id": "414b98ba",
   "metadata": {},
   "source": [
    "#### 7. What is a shortcut for the following code?\n",
    "if 'color' not in spam:\n",
    "spam['color'] = 'black'\n"
   ]
  },
  {
   "cell_type": "markdown",
   "id": "0fa2754b",
   "metadata": {},
   "source": [
    "**Ans:** `spam.setdefault('color','black')`"
   ]
  },
  {
   "cell_type": "code",
   "execution_count": 19,
   "id": "a4a62036",
   "metadata": {},
   "outputs": [
    {
     "data": {
      "text/plain": [
       "'black'"
      ]
     },
     "execution_count": 19,
     "metadata": {},
     "output_type": "execute_result"
    }
   ],
   "source": [
    "if 'color' not in spam: spam['color'] ='black'\n",
    "\n",
    "spam.setdefault('color','black')"
   ]
  },
  {
   "cell_type": "markdown",
   "id": "38ed432a",
   "metadata": {},
   "source": [
    "#### 8.How do you 'pretty print' dictionary values using which modules and function ?"
   ]
  },
  {
   "cell_type": "markdown",
   "id": "60f265e3",
   "metadata": {},
   "source": [
    "**Ans:** we can pretty print a dictionary using three functions\n",
    "1. by using pprint() function of pprint module\n",
    "    * **Note:** pprint() function doesnot prettify nested dictionaries\n",
    "2. by using dumps() method of json module\n",
    "3. by using dumps() method of yaml module"
   ]
  },
  {
   "cell_type": "code",
   "execution_count": 22,
   "id": "d6d75779",
   "metadata": {},
   "outputs": [
    {
     "name": "stdout",
     "output_type": "stream",
     "text": [
      "Printing using print() function\n",
      " [{'Name': 'Rahul', 'Age': '55', 'Residence': {'Country': 'INDIA', 'City': 'MUMBAI'}}, {'Name': 'Dhaval', 'Age': '36', 'Residence': {'Country': 'INDIA', 'City': 'JAIPUR'}}, {'Name': 'Sumit', 'Age': '65', 'Residence': {'Country': 'INDIA', 'City': 'GOA'}}, {'Name': 'Mehul', 'Age': '60', 'Residence': {'Country': 'INDIA', 'City': 'JHUNJHUNU'}}]\n",
      "----------------------------------------------------------------------\n",
      "Printing using pprint() funciton\n",
      "[{'Age': '55',\n",
      "  'Name': 'Rahul',\n",
      "  'Residence': {'City': 'MUMBAI', 'Country': 'INDIA'}},\n",
      " {'Age': '36',\n",
      "  'Name': 'Dhaval',\n",
      "  'Residence': {'City': 'JAIPUR', 'Country': 'INDIA'}},\n",
      " {'Age': '65',\n",
      "  'Name': 'Sumit',\n",
      "  'Residence': {'City': 'GOA', 'Country': 'INDIA'}},\n",
      " {'Age': '60',\n",
      "  'Name': 'Mehul',\n",
      "  'Residence': {'City': 'JHUNJHUNU', 'Country': 'INDIA'}}]\n",
      "----------------------------------------------------------------------\n",
      "Printing using dumps() method\n",
      " [\n",
      "    {\n",
      "        \"Name\": \"Rahul\",\n",
      "        \"Age\": \"55\",\n",
      "        \"Residence\": {\n",
      "            \"Country\": \"INDIA\",\n",
      "            \"City\": \"MUMBAI\"\n",
      "        }\n",
      "    },\n",
      "    {\n",
      "        \"Name\": \"Dhaval\",\n",
      "        \"Age\": \"36\",\n",
      "        \"Residence\": {\n",
      "            \"Country\": \"INDIA\",\n",
      "            \"City\": \"JAIPUR\"\n",
      "        }\n",
      "    },\n",
      "    {\n",
      "        \"Name\": \"Sumit\",\n",
      "        \"Age\": \"65\",\n",
      "        \"Residence\": {\n",
      "            \"Country\": \"INDIA\",\n",
      "            \"City\": \"GOA\"\n",
      "        }\n",
      "    },\n",
      "    {\n",
      "        \"Name\": \"Mehul\",\n",
      "        \"Age\": \"60\",\n",
      "        \"Residence\": {\n",
      "            \"Country\": \"INDIA\",\n",
      "            \"City\": \"JHUNJHUNU\"\n",
      "        }\n",
      "    }\n",
      "]\n",
      "----------------------------------------------------------------------\n",
      "Printing using dump() method\n",
      " - Age: '55'\n",
      "  Name: Rahul\n",
      "  Residence:\n",
      "    City: MUMBAI\n",
      "    Country: INDIA\n",
      "- Age: '36'\n",
      "  Name: Dhaval\n",
      "  Residence:\n",
      "    City: JAIPUR\n",
      "    Country: INDIA\n",
      "- Age: '65'\n",
      "  Name: Sumit\n",
      "  Residence:\n",
      "    City: GOA\n",
      "    Country: INDIA\n",
      "- Age: '60'\n",
      "  Name: Mehul\n",
      "  Residence:\n",
      "    City: JHUNJHUNU\n",
      "    Country: INDIA\n",
      "\n"
     ]
    }
   ],
   "source": [
    "ndictionary = [\n",
    "  {'Name': 'Rahul', 'Age': '55', 'Residence': {'Country':'INDIA', 'City': 'MUMBAI'}},\n",
    "  {'Name': 'Dhaval', 'Age': '36', 'Residence': {'Country':'INDIA', 'City': 'JAIPUR'}},\n",
    "  {'Name': 'Sumit', 'Age': '65', 'Residence': {'Country':'INDIA', 'City': 'GOA'}},\n",
    "  {'Name': 'Mehul', 'Age': '60', 'Residence': {'Country':'INDIA', 'City': 'JHUNJHUNU'}}\n",
    "]\n",
    "\n",
    "print('Printing using print() function\\n',ndictionary)\n",
    "print('-'*70)\n",
    "import pprint\n",
    "print('Printing using pprint() funciton')\n",
    "pprint.pprint(ndictionary)\n",
    "print('-'*70)\n",
    "import json\n",
    "dump = json.dumps(ndictionary, indent=4)\n",
    "print('Printing using dumps() method\\n', dump)\n",
    "print('-'*70)\n",
    "import yaml\n",
    "dump = yaml.dump(ndictionary)\n",
    "print('Printing using dump() method\\n', dump)\n"
   ]
  },
  {
   "cell_type": "code",
   "execution_count": null,
   "id": "55ee7484",
   "metadata": {},
   "outputs": [],
   "source": []
  }
 ],
 "metadata": {
  "kernelspec": {
   "display_name": "Python 3 (ipykernel)",
   "language": "python",
   "name": "python3"
  },
  "language_info": {
   "codemirror_mode": {
    "name": "ipython",
    "version": 3
   },
   "file_extension": ".py",
   "mimetype": "text/x-python",
   "name": "python",
   "nbconvert_exporter": "python",
   "pygments_lexer": "ipython3",
   "version": "3.9.7"
  }
 },
 "nbformat": 4,
 "nbformat_minor": 5
}
