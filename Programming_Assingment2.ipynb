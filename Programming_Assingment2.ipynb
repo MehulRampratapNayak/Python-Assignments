{
 "cells": [
  {
   "cell_type": "markdown",
   "id": "22da280f",
   "metadata": {},
   "source": [
    "#### 1.Write a Python program to convert kilometers to miles?"
   ]
  },
  {
   "cell_type": "code",
   "execution_count": 25,
   "id": "334c939b",
   "metadata": {},
   "outputs": [],
   "source": [
    "\n",
    "def conkmtomiles():\n",
    "    a=int(input('Enter a number: '))\n",
    "    return 0.62137119224 *a\n"
   ]
  },
  {
   "cell_type": "code",
   "execution_count": 26,
   "id": "612c0d85",
   "metadata": {},
   "outputs": [
    {
     "name": "stdout",
     "output_type": "stream",
     "text": [
      "Enter a number: 52\n"
     ]
    },
    {
     "data": {
      "text/plain": [
       "32.311301996480005"
      ]
     },
     "execution_count": 26,
     "metadata": {},
     "output_type": "execute_result"
    }
   ],
   "source": [
    "conkmtomiles()"
   ]
  },
  {
   "cell_type": "markdown",
   "id": "8eb0c688",
   "metadata": {},
   "source": [
    "#### 2.Write a Python program to convert Celsius to Fahrenheit?"
   ]
  },
  {
   "cell_type": "code",
   "execution_count": 28,
   "id": "d51ad357",
   "metadata": {},
   "outputs": [],
   "source": [
    "def convert_celsius_to_fahrenheit():\n",
    "    a=int(input('Enter a number: '))\n",
    "    return (a*9/5)+32"
   ]
  },
  {
   "cell_type": "code",
   "execution_count": 29,
   "id": "d60580f9",
   "metadata": {},
   "outputs": [
    {
     "name": "stdout",
     "output_type": "stream",
     "text": [
      "Enter a number: 700\n"
     ]
    },
    {
     "data": {
      "text/plain": [
       "1292.0"
      ]
     },
     "execution_count": 29,
     "metadata": {},
     "output_type": "execute_result"
    }
   ],
   "source": [
    "convert_celsius_to_fahrenheit()"
   ]
  },
  {
   "cell_type": "markdown",
   "id": "0dbf7f08",
   "metadata": {},
   "source": [
    "#### 3.Write a Python program to display calendar?"
   ]
  },
  {
   "cell_type": "code",
   "execution_count": 13,
   "id": "1faebca4",
   "metadata": {},
   "outputs": [
    {
     "name": "stdout",
     "output_type": "stream",
     "text": [
      "ENTER CALENDAR YEAR:  2021\n",
      "                                  2021\n",
      "\n",
      "      January                   February                   March\n",
      "Mo Tu We Th Fr Sa Su      Mo Tu We Th Fr Sa Su      Mo Tu We Th Fr Sa Su\n",
      "             1  2  3       1  2  3  4  5  6  7       1  2  3  4  5  6  7\n",
      " 4  5  6  7  8  9 10       8  9 10 11 12 13 14       8  9 10 11 12 13 14\n",
      "11 12 13 14 15 16 17      15 16 17 18 19 20 21      15 16 17 18 19 20 21\n",
      "18 19 20 21 22 23 24      22 23 24 25 26 27 28      22 23 24 25 26 27 28\n",
      "25 26 27 28 29 30 31                                29 30 31\n",
      "\n",
      "       April                      May                       June\n",
      "Mo Tu We Th Fr Sa Su      Mo Tu We Th Fr Sa Su      Mo Tu We Th Fr Sa Su\n",
      "          1  2  3  4                      1  2          1  2  3  4  5  6\n",
      " 5  6  7  8  9 10 11       3  4  5  6  7  8  9       7  8  9 10 11 12 13\n",
      "12 13 14 15 16 17 18      10 11 12 13 14 15 16      14 15 16 17 18 19 20\n",
      "19 20 21 22 23 24 25      17 18 19 20 21 22 23      21 22 23 24 25 26 27\n",
      "26 27 28 29 30            24 25 26 27 28 29 30      28 29 30\n",
      "                          31\n",
      "\n",
      "        July                     August                  September\n",
      "Mo Tu We Th Fr Sa Su      Mo Tu We Th Fr Sa Su      Mo Tu We Th Fr Sa Su\n",
      "          1  2  3  4                         1             1  2  3  4  5\n",
      " 5  6  7  8  9 10 11       2  3  4  5  6  7  8       6  7  8  9 10 11 12\n",
      "12 13 14 15 16 17 18       9 10 11 12 13 14 15      13 14 15 16 17 18 19\n",
      "19 20 21 22 23 24 25      16 17 18 19 20 21 22      20 21 22 23 24 25 26\n",
      "26 27 28 29 30 31         23 24 25 26 27 28 29      27 28 29 30\n",
      "                          30 31\n",
      "\n",
      "      October                   November                  December\n",
      "Mo Tu We Th Fr Sa Su      Mo Tu We Th Fr Sa Su      Mo Tu We Th Fr Sa Su\n",
      "             1  2  3       1  2  3  4  5  6  7             1  2  3  4  5\n",
      " 4  5  6  7  8  9 10       8  9 10 11 12 13 14       6  7  8  9 10 11 12\n",
      "11 12 13 14 15 16 17      15 16 17 18 19 20 21      13 14 15 16 17 18 19\n",
      "18 19 20 21 22 23 24      22 23 24 25 26 27 28      20 21 22 23 24 25 26\n",
      "25 26 27 28 29 30 31      29 30                     27 28 29 30 31\n",
      "\n"
     ]
    }
   ],
   "source": [
    "import calendar\n",
    "\n",
    "def showcalendar():\n",
    "    year=int(input('ENTER CALENDAR YEAR:  '))\n",
    "    print(calendar.calendar(year))\n",
    "    \n",
    "    \n",
    "showcalendar()"
   ]
  },
  {
   "cell_type": "markdown",
   "id": "8586dd56",
   "metadata": {},
   "source": [
    "#### 4.Write a Python program to solve quadratic equation?"
   ]
  },
  {
   "cell_type": "code",
   "execution_count": 14,
   "id": "65f13fd2",
   "metadata": {},
   "outputs": [
    {
     "name": "stdout",
     "output_type": "stream",
     "text": [
      "Enter a value: 5\n",
      "Enter b value: 6\n",
      "Enter c value: 4\n",
      "Roots are Imaginary (-0.6-0.6633249580710799j) (-0.6+0.6633249580710799j)\n"
     ]
    }
   ],
   "source": [
    "import cmath\n",
    "import math\n",
    "\n",
    "def quadarticEquationRoots(a,b,c):\n",
    "    \n",
    "    discriminant = b*b-4*a*c\n",
    "    \n",
    "    if discriminant == 0:\n",
    "        r1 = -b/2*a\n",
    "        r2 = -b/2*a\n",
    "        print(\"Roots are Real\",r1,r2)\n",
    "    elif discriminant > 0:\n",
    "        r1 = (-b-math.sqrt(discriminant))/(2 * a)\n",
    "        r2 = (-b+math.sqrt(discriminant))/(2 * a)\n",
    "        print(\"Roots are Real and different\",r1,r2)\n",
    "    else:\n",
    "        r1 = (-b-cmath.sqrt(discriminant))/(2 * a)\n",
    "        r2 = (-b+cmath.sqrt(discriminant))/(2 * a)\n",
    "        print(\"Roots are Imaginary\",r1,r2)\n",
    "\n",
    "\n",
    "a = int(input('Enter a value: '))\n",
    "b = int(input('Enter b value: '))\n",
    "c = int(input('Enter c value: '))\n",
    "\n",
    "quadarticEquationRoots(a,b,c)\n"
   ]
  },
  {
   "cell_type": "markdown",
   "id": "e0465029",
   "metadata": {},
   "source": [
    "#### 5.Write a Python program to swap two variables without temp variable?"
   ]
  },
  {
   "cell_type": "code",
   "execution_count": 19,
   "id": "8213751b",
   "metadata": {},
   "outputs": [
    {
     "name": "stdout",
     "output_type": "stream",
     "text": [
      "Enter the First Number:  52\n",
      "Enter the Second Number:  62\n",
      "Before Swapping 52 62\n",
      "After Swapping 62 52\n"
     ]
    }
   ],
   "source": [
    "num1=int(input('Enter the First Number:  '))\n",
    "num2=int(input('Enter the Second Number:  '))\n",
    "\n",
    "def swapvariables(num1,num2):\n",
    "    print('Before Swapping',num1,num2)\n",
    "    num1=num1+num2\n",
    "    num2=num1-num2\n",
    "    num1=num1-num2\n",
    "    print('After Swapping',num1,num2)\n",
    "    \n",
    "swapvariables(num1,num2)"
   ]
  },
  {
   "cell_type": "code",
   "execution_count": null,
   "id": "0795909c",
   "metadata": {},
   "outputs": [],
   "source": []
  }
 ],
 "metadata": {
  "kernelspec": {
   "display_name": "Python 3 (ipykernel)",
   "language": "python",
   "name": "python3"
  },
  "language_info": {
   "codemirror_mode": {
    "name": "ipython",
    "version": 3
   },
   "file_extension": ".py",
   "mimetype": "text/x-python",
   "name": "python",
   "nbconvert_exporter": "python",
   "pygments_lexer": "ipython3",
   "version": "3.9.7"
  }
 },
 "nbformat": 4,
 "nbformat_minor": 5
}
