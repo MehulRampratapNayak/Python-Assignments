{
 "cells": [
  {
   "cell_type": "markdown",
   "id": "080075a8",
   "metadata": {},
   "source": [
    "#### 1. What exactly is '[]'?\n",
    "**Ans**: The empty list represented by `[]` is a list that contains no items. This is similar to `''` which represents an empty string"
   ]
  },
  {
   "cell_type": "code",
   "execution_count": 52,
   "id": "ec448787",
   "metadata": {},
   "outputs": [
    {
     "name": "stdout",
     "output_type": "stream",
     "text": [
      "Values of d: []\n",
      "Type of d: <class 'list'>\n",
      "Size of d: 0\n"
     ]
    }
   ],
   "source": [
    "# Python program to declare\n",
    "# empty list\n",
    "\n",
    "# list is declared\n",
    "d = []\n",
    "\n",
    "print(\"Values of d:\", d)\n",
    "print(\"Type of d:\", type(d))\n",
    "print(\"Size of d:\", len(d))"
   ]
  },
  {
   "cell_type": "markdown",
   "id": "7bbfc17f",
   "metadata": {},
   "source": [
    "#### 2.In a list of values stored in a variable called spam, how would you assign the value 'hello' as the third value? (Assume [2, 4, 6, 8, 10] are in spam.) \n",
    "**Ans:** spam[2]='hello'` (Note: Lists follows zero based indexing)"
   ]
  },
  {
   "cell_type": "code",
   "execution_count": 26,
   "id": "4f9dbefe",
   "metadata": {},
   "outputs": [
    {
     "data": {
      "text/plain": [
       "[2, 4, 'hello', 8, 10]"
      ]
     },
     "execution_count": 26,
     "metadata": {},
     "output_type": "execute_result"
    }
   ],
   "source": [
    "spam=[2,4,6,8,10]\n",
    "spam[2]='hello'\n",
    "spam"
   ]
  },
  {
   "cell_type": "markdown",
   "id": "30e678ec",
   "metadata": {},
   "source": [
    "Let's pretend the spam includes the list ['a', 'b', 'c', 'd'] for the next three queries."
   ]
  },
  {
   "cell_type": "markdown",
   "id": "9453c720",
   "metadata": {},
   "source": [
    "3. What is the value of spam[int(int('3' * 2) / 11)]?"
   ]
  },
  {
   "cell_type": "code",
   "execution_count": 29,
   "id": "05eecc95",
   "metadata": {},
   "outputs": [
    {
     "data": {
      "text/plain": [
       "'d'"
      ]
     },
     "execution_count": 29,
     "metadata": {},
     "output_type": "execute_result"
    }
   ],
   "source": [
    "spam= ['a', 'b', 'c', 'd']\n",
    "spam[int(int('3' * 2) / 11)]"
   ]
  },
  {
   "cell_type": "markdown",
   "id": "7e8a942f",
   "metadata": {},
   "source": [
    "4. What is the value of spam[-1]?"
   ]
  },
  {
   "cell_type": "code",
   "execution_count": 30,
   "id": "f0e830ca",
   "metadata": {},
   "outputs": [
    {
     "data": {
      "text/plain": [
       "'d'"
      ]
     },
     "execution_count": 30,
     "metadata": {},
     "output_type": "execute_result"
    }
   ],
   "source": [
    " spam[-1]"
   ]
  },
  {
   "cell_type": "markdown",
   "id": "bd37d371",
   "metadata": {},
   "source": [
    "5. What is the value of spam[:2]?"
   ]
  },
  {
   "cell_type": "code",
   "execution_count": 31,
   "id": "2fab57ff",
   "metadata": {},
   "outputs": [
    {
     "data": {
      "text/plain": [
       "['a', 'b']"
      ]
     },
     "execution_count": 31,
     "metadata": {},
     "output_type": "execute_result"
    }
   ],
   "source": [
    "spam[:2]"
   ]
  },
  {
   "cell_type": "markdown",
   "id": "c1592726",
   "metadata": {},
   "source": [
    "Let's pretend bacon has the list [3.14, 'cat,' 11, 'cat,' True] for the next three questions."
   ]
  },
  {
   "cell_type": "markdown",
   "id": "245de8e1",
   "metadata": {},
   "source": [
    "6. What is the value of bacon.index('cat')?"
   ]
  },
  {
   "cell_type": "code",
   "execution_count": 34,
   "id": "582e322e",
   "metadata": {},
   "outputs": [
    {
     "data": {
      "text/plain": [
       "1"
      ]
     },
     "execution_count": 34,
     "metadata": {},
     "output_type": "execute_result"
    }
   ],
   "source": [
    "bacon=[3.14, 'cat', 11, 'cat', True]\n",
    "bacon.index('cat')"
   ]
  },
  {
   "cell_type": "markdown",
   "id": "8ab7f9bc",
   "metadata": {},
   "source": [
    "7. How does bacon.append(99) change the look of the list value in bacon?"
   ]
  },
  {
   "cell_type": "code",
   "execution_count": 38,
   "id": "4029c310",
   "metadata": {},
   "outputs": [
    {
     "data": {
      "text/plain": [
       "[3.14, 'cat', 11, 'cat', True, 99]"
      ]
     },
     "execution_count": 38,
     "metadata": {},
     "output_type": "execute_result"
    }
   ],
   "source": [
    "bacon=[3.14, 'cat', 11, 'cat', True]\n",
    "bacon.append(99)\n",
    "bacon"
   ]
  },
  {
   "cell_type": "markdown",
   "id": "58883519",
   "metadata": {},
   "source": [
    "8. How does bacon.remove('cat') change the look of the list in bacon?"
   ]
  },
  {
   "cell_type": "code",
   "execution_count": 41,
   "id": "4ce5fdfb",
   "metadata": {},
   "outputs": [
    {
     "data": {
      "text/plain": [
       "[3.14, 11, True, 99]"
      ]
     },
     "execution_count": 41,
     "metadata": {},
     "output_type": "execute_result"
    }
   ],
   "source": [
    "bacon.remove('cat') \n",
    "bacon"
   ]
  },
  {
   "cell_type": "markdown",
   "id": "e688736a",
   "metadata": {},
   "source": [
    "9. What are the list concatenation and list replication operators?"
   ]
  },
  {
   "cell_type": "markdown",
   "id": "fc156b5b",
   "metadata": {},
   "source": [
    "**Ans** `The operator for list concatenation is `+`, while the operator for replication is `*`. (This is the same as for strings.)"
   ]
  },
  {
   "cell_type": "code",
   "execution_count": 42,
   "id": "c41bf116",
   "metadata": {},
   "outputs": [
    {
     "name": "stdout",
     "output_type": "stream",
     "text": [
      "['ML', 'DL', 'AI', 'CV', 'NLP', 'RNN', 'CNN', 'SVN']\n",
      "['RNN', 'CNN', 'SVN', 'RNN', 'CNN', 'SVN']\n"
     ]
    }
   ],
   "source": [
    "# Example\n",
    "list_1 = ['ML','DL','AI','CV','NLP']\n",
    "list_2 = ['RNN','CNN','SVN']\n",
    "print(list_1 + list_2) # List Concatenation\n",
    "print(list_2*2) # List Replication"
   ]
  },
  {
   "cell_type": "markdown",
   "id": "eb5b4681",
   "metadata": {},
   "source": [
    "10. What is difference between the list methods append() and insert()?"
   ]
  },
  {
   "cell_type": "markdown",
   "id": "f3199938",
   "metadata": {},
   "source": [
    "**Ans:** While append() will add values only to the end of a list, insert() can add them anywhere in the list."
   ]
  },
  {
   "cell_type": "code",
   "execution_count": 44,
   "id": "d621add2",
   "metadata": {},
   "outputs": [
    {
     "name": "stdout",
     "output_type": "stream",
     "text": [
      "[1, 2, 3, 4, 5, 690]\n",
      "[1, 2, 'MRA', 3, 4, 5, 690]\n"
     ]
    }
   ],
   "source": [
    "#Examples\n",
    "list = [1,2,3,4,5]\n",
    "list.append(690)\n",
    "print(list)\n",
    "list.insert(2,'MRA')\n",
    "print(list)"
   ]
  },
  {
   "cell_type": "markdown",
   "id": "cccf3fa0",
   "metadata": {},
   "source": [
    "**11**. What are the two methods for removing items from a list?"
   ]
  },
  {
   "cell_type": "markdown",
   "id": "98a238a6",
   "metadata": {},
   "source": [
    "**Ans:** The `del` statement and the `remove()` method are two ways to remove values from a list"
   ]
  },
  {
   "cell_type": "code",
   "execution_count": 45,
   "id": "8758d755",
   "metadata": {},
   "outputs": [
    {
     "data": {
      "text/plain": [
       "[1, 2, 2, 3, 4, 5]"
      ]
     },
     "execution_count": 45,
     "metadata": {},
     "output_type": "execute_result"
    }
   ],
   "source": [
    "# assign list\n",
    "numbers = [1, 2, 3, 2, 3, 4, 5]\n",
    "  \n",
    "# use del\n",
    "del numbers[2]\n",
    "\n",
    "numbers"
   ]
  },
  {
   "cell_type": "code",
   "execution_count": 46,
   "id": "dca5c6dc",
   "metadata": {},
   "outputs": [
    {
     "data": {
      "text/plain": [
       "[1, 2, 2, 3, 4, 5]"
      ]
     },
     "execution_count": 46,
     "metadata": {},
     "output_type": "execute_result"
    }
   ],
   "source": [
    "# assign list\n",
    "numbers1 = [1, 2, 3, 2, 3, 4, 5]\n",
    "  \n",
    "# use remove()\n",
    "numbers1.remove(3)\n",
    "numbers1"
   ]
  },
  {
   "cell_type": "markdown",
   "id": "0e8b3001",
   "metadata": {},
   "source": [
    "**12**. Describe how list values and string values are identical."
   ]
  },
  {
   "cell_type": "markdown",
   "id": "2f4c4808",
   "metadata": {},
   "source": [
    "**Ans:** Below are some reasons how list values and string values are identical:\n",
    "1. Both lists and strings can be passed to `len()` function\n",
    "2. Have indexes and slices, be used in `for` loops, \n",
    "3. Can be concatenated or replicated\n",
    "4. Can be used with the `in` and `not in` operators."
   ]
  },
  {
   "cell_type": "markdown",
   "id": "5757a89f",
   "metadata": {},
   "source": [
    "**13**. What's the difference between tuples and lists?"
   ]
  },
  {
   "cell_type": "markdown",
   "id": "ce7ebf2b",
   "metadata": {},
   "source": [
    "**Ans:** Lists are `Mutable`, `Indexable` and `Slicable`. they can have values added, removed, or changed. Tuples are `Immutable` but `Indexable` and `Slicable`. the tuple values cannot be changed at all. Also, tuples are represented using parentheses, `()`, while lists use the square brackets, `[]`."
   ]
  },
  {
   "cell_type": "code",
   "execution_count": 53,
   "id": "8c13c1b8",
   "metadata": {},
   "outputs": [
    {
     "name": "stdout",
     "output_type": "stream",
     "text": [
      "[1, 2, 3, 4, 5, 6, 7, 8]\n",
      "(1, 2, 3, 4, 5, 6, 7, 8)\n"
     ]
    }
   ],
   "source": [
    "li_num = [1,2,3,4,5,6,7,8]\n",
    "tup_number = (1,2,3,4,5,6,7,8)\n",
    "\n",
    "print(li_num)\n",
    "print(tup_number)"
   ]
  },
  {
   "cell_type": "markdown",
   "id": "6eead252",
   "metadata": {},
   "source": [
    "**14**. How do you type a tuple value that only contains the integer 42?"
   ]
  },
  {
   "cell_type": "markdown",
   "id": "a2fd8e87",
   "metadata": {},
   "source": [
    "**Ans:**(42,) (The trailing comma is mandatory. otherwise its considered as a int by python Interpreter)"
   ]
  },
  {
   "cell_type": "code",
   "execution_count": 54,
   "id": "e6e7416a",
   "metadata": {},
   "outputs": [
    {
     "name": "stdout",
     "output_type": "stream",
     "text": [
      "<class 'int'>\n",
      "<class 'tuple'>\n"
     ]
    }
   ],
   "source": [
    "tuple1=(42)\n",
    "tuple2=(42,)\n",
    "print(type(tuple1))\n",
    "print(type(tuple2))"
   ]
  },
  {
   "cell_type": "markdown",
   "id": "ee5ce488",
   "metadata": {},
   "source": [
    "**15**. How do you get a list value's tuple form? How do you get a tuple value's list form?"
   ]
  },
  {
   "cell_type": "markdown",
   "id": "d02148e0",
   "metadata": {},
   "source": [
    "**Ans:** The tuple() and list() functions, respectively are used to convert a list to tuple and vice versa"
   ]
  },
  {
   "cell_type": "markdown",
   "id": "358a0169",
   "metadata": {},
   "source": [
    "**16**. Variables that \"contain\" list values are not necessarily lists themselves. Instead, what do they contain?"
   ]
  },
  {
   "cell_type": "markdown",
   "id": "1a53101b",
   "metadata": {},
   "source": [
    "**Ans**: They contain references to list values."
   ]
  },
  {
   "cell_type": "markdown",
   "id": "b1e231ae",
   "metadata": {},
   "source": [
    "**17**. How do you distinguish between copy.copy() and copy.deepcopy()?"
   ]
  },
  {
   "cell_type": "markdown",
   "id": "bcd00d27",
   "metadata": {},
   "source": [
    "**Ans:** The `copy.copy()` function will do a shallow copy of a list, while the `copy.deepcopy()` function will do a deep copy of a list. That is, only `copy.deepcopy()` will duplicate any lists inside the list."
   ]
  },
  {
   "cell_type": "code",
   "execution_count": 56,
   "id": "beb2c7b2",
   "metadata": {},
   "outputs": [],
   "source": [
    "# importing copy module\n",
    "import copy\n",
    "\n",
    "# initializing list 1\n",
    "list1 = [96, 74, [89,53,96,43], 12]\n",
    "\n",
    "\n",
    "# using copy for shallow copy\n",
    "list2 = copy.copy(list1)\n",
    "\n",
    "# using deepcopy for deepcopy\n",
    "list3 = copy.deepcopy(list1)"
   ]
  },
  {
   "cell_type": "code",
   "execution_count": null,
   "id": "76044e03",
   "metadata": {},
   "outputs": [],
   "source": []
  }
 ],
 "metadata": {
  "kernelspec": {
   "display_name": "Python 3 (ipykernel)",
   "language": "python",
   "name": "python3"
  },
  "language_info": {
   "codemirror_mode": {
    "name": "ipython",
    "version": 3
   },
   "file_extension": ".py",
   "mimetype": "text/x-python",
   "name": "python",
   "nbconvert_exporter": "python",
   "pygments_lexer": "ipython3",
   "version": "3.9.7"
  }
 },
 "nbformat": 4,
 "nbformat_minor": 5
}
