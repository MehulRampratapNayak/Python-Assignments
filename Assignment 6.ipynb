{
 "cells": [
  {
   "cell_type": "markdown",
   "id": "a2642e2e",
   "metadata": {},
   "source": [
    "#### 1. What are escape characters, and how do you use them?"
   ]
  },
  {
   "cell_type": "markdown",
   "id": "f4de4c96",
   "metadata": {},
   "source": [
    "**Ans:** Escape characters represent characters in string values that would otherwise be difficult or impossible to type into code. we can use the backslash `character` to escape a single character or symbol  \n",
    "**example:** `\\t, \\n'"
   ]
  },
  {
   "cell_type": "code",
   "execution_count": 11,
   "id": "987f19b3",
   "metadata": {},
   "outputs": [
    {
     "data": {
      "text/plain": [
       "\"my name is 'mehul' i am from India\""
      ]
     },
     "execution_count": 11,
     "metadata": {},
     "output_type": "execute_result"
    }
   ],
   "source": [
    "text=\"my name is \\'mehul\\' i am from India\"\n",
    "     \n",
    "\n",
    "text"
   ]
  },
  {
   "cell_type": "markdown",
   "id": "bbd7be40",
   "metadata": {},
   "source": [
    "#### 2. What do the escape characters n and t stand for?"
   ]
  },
  {
   "cell_type": "markdown",
   "id": "7f34770b",
   "metadata": {},
   "source": [
    "**Ans:** `\\n` is a newline, `\\t` is a tab"
   ]
  },
  {
   "cell_type": "code",
   "execution_count": 20,
   "id": "315c0b22",
   "metadata": {},
   "outputs": [
    {
     "name": "stdout",
     "output_type": "stream",
     "text": [
      "my name is\n",
      " Mehul\n",
      "my name is\tMehul\n"
     ]
    }
   ],
   "source": [
    "a=\"my name is\\n Mehul\"\n",
    "print(a)\n",
    "\n",
    "b=\"my name is\\tMehul\"\n",
    "print(b)"
   ]
  },
  {
   "cell_type": "markdown",
   "id": "f9977af1",
   "metadata": {},
   "source": [
    "#### 3. What is the way to include backslash characters in a string?"
   ]
  },
  {
   "cell_type": "markdown",
   "id": "54b71c7e",
   "metadata": {},
   "source": [
    "**Ans:** The `\\\\` escape character will represent the backslash character in a string"
   ]
  },
  {
   "cell_type": "markdown",
   "id": "21641d9d",
   "metadata": {},
   "source": [
    "#### 4. The string \"Howl's Moving Castle\" is a correct value. Why isn't the single quote character in the word Howl's not escaped a problem?"
   ]
  },
  {
   "cell_type": "markdown",
   "id": "f27eaced",
   "metadata": {},
   "source": [
    "**Ans:** The string `\"Howl's Moving Castle\"` escaped the problem because it is wrapped inside double quotes. if its wrapped inside single quotes then we have to use escape character `\\'` to show single quote in the final output  \n",
    "`'Howl\\'s Moving Castle'` **`->`** `'Howl's Moving Castle'`"
   ]
  },
  {
   "cell_type": "code",
   "execution_count": 21,
   "id": "f1b81589",
   "metadata": {},
   "outputs": [
    {
     "data": {
      "text/plain": [
       "\"Howl's Moving Castle\""
      ]
     },
     "execution_count": 21,
     "metadata": {},
     "output_type": "execute_result"
    }
   ],
   "source": [
    "d='Howl\\'s Moving Castle'\n",
    "d"
   ]
  },
  {
   "cell_type": "markdown",
   "id": "7fea7987",
   "metadata": {},
   "source": [
    "#### 5. How do you write a string of newlines if you don't want to use the n character?"
   ]
  },
  {
   "cell_type": "markdown",
   "id": "2ced33e4",
   "metadata": {},
   "source": [
    "**Ans:**  Multiline string allow you to use newlines in string without the `\\n` escape character  "
   ]
  },
  {
   "cell_type": "code",
   "execution_count": 22,
   "id": "8f7f1906",
   "metadata": {},
   "outputs": [
    {
     "name": "stdout",
     "output_type": "stream",
     "text": [
      "my name is mehul\n",
      "I LIVE IN INDIA\n"
     ]
    }
   ],
   "source": [
    "# Example:\n",
    "E = '''my name is mehul\n",
    "I LIVE IN INDIA'''\n",
    "print(E)"
   ]
  },
  {
   "cell_type": "markdown",
   "id": "4c3586c3",
   "metadata": {},
   "source": [
    "#### 6. What are the values of the given expressions?\n",
    "'Hello, world!'[1]\n",
    "'Hello, world!'[0:5]\n",
    "'Hello, world!'[:5]\n",
    "'Hello, world!'[3:]\n"
   ]
  },
  {
   "cell_type": "code",
   "execution_count": 23,
   "id": "e9ee1cdc",
   "metadata": {},
   "outputs": [
    {
     "data": {
      "text/plain": [
       "'e'"
      ]
     },
     "execution_count": 23,
     "metadata": {},
     "output_type": "execute_result"
    }
   ],
   "source": [
    "'Hello, world!'[1] "
   ]
  },
  {
   "cell_type": "code",
   "execution_count": 24,
   "id": "5947bfc4",
   "metadata": {},
   "outputs": [
    {
     "data": {
      "text/plain": [
       "'Hello'"
      ]
     },
     "execution_count": 24,
     "metadata": {},
     "output_type": "execute_result"
    }
   ],
   "source": [
    "'Hello, world!'[0:5] "
   ]
  },
  {
   "cell_type": "code",
   "execution_count": 25,
   "id": "81203f3f",
   "metadata": {},
   "outputs": [
    {
     "data": {
      "text/plain": [
       "'Hello'"
      ]
     },
     "execution_count": 25,
     "metadata": {},
     "output_type": "execute_result"
    }
   ],
   "source": [
    "'Hello, world!'[:5]"
   ]
  },
  {
   "cell_type": "code",
   "execution_count": 26,
   "id": "933fc918",
   "metadata": {},
   "outputs": [
    {
     "data": {
      "text/plain": [
       "'lo, world!'"
      ]
     },
     "execution_count": 26,
     "metadata": {},
     "output_type": "execute_result"
    }
   ],
   "source": [
    "'Hello, world!'[3:]"
   ]
  },
  {
   "cell_type": "markdown",
   "id": "26f9c29a",
   "metadata": {},
   "source": [
    "#### 7. What are the values of the following expressions?\n",
    "'Hello'.upper()\n",
    "'Hello'.upper().isupper()\n",
    "'Hello'.upper().lower()\n"
   ]
  },
  {
   "cell_type": "code",
   "execution_count": 27,
   "id": "9959fba0",
   "metadata": {},
   "outputs": [
    {
     "data": {
      "text/plain": [
       "'HELLO'"
      ]
     },
     "execution_count": 27,
     "metadata": {},
     "output_type": "execute_result"
    }
   ],
   "source": [
    "'Hello'.upper() "
   ]
  },
  {
   "cell_type": "code",
   "execution_count": 28,
   "id": "e21e0eba",
   "metadata": {},
   "outputs": [
    {
     "data": {
      "text/plain": [
       "True"
      ]
     },
     "execution_count": 28,
     "metadata": {},
     "output_type": "execute_result"
    }
   ],
   "source": [
    "'Hello'.upper().isupper()"
   ]
  },
  {
   "cell_type": "code",
   "execution_count": 29,
   "id": "c947a127",
   "metadata": {},
   "outputs": [
    {
     "data": {
      "text/plain": [
       "'hello'"
      ]
     },
     "execution_count": 29,
     "metadata": {},
     "output_type": "execute_result"
    }
   ],
   "source": [
    "'Hello'.upper().lower()"
   ]
  },
  {
   "cell_type": "markdown",
   "id": "3373e769",
   "metadata": {},
   "source": [
    "#### 8. What are the values of the following expressions?\n",
    "'Remember, remember, the fifth of July.'.split()\n",
    "'-'.join('There can only one.'.split())\n"
   ]
  },
  {
   "cell_type": "code",
   "execution_count": 31,
   "id": "a17f4120",
   "metadata": {},
   "outputs": [
    {
     "data": {
      "text/plain": [
       "['Remember,', 'remember,', 'the', 'fifth', 'of', 'July.']"
      ]
     },
     "execution_count": 31,
     "metadata": {},
     "output_type": "execute_result"
    }
   ],
   "source": [
    "'Remember, remember, the fifth of July.'.split() "
   ]
  },
  {
   "cell_type": "code",
   "execution_count": 32,
   "id": "64a31af5",
   "metadata": {},
   "outputs": [
    {
     "data": {
      "text/plain": [
       "'There-can-only-one.'"
      ]
     },
     "execution_count": 32,
     "metadata": {},
     "output_type": "execute_result"
    }
   ],
   "source": [
    "'-'.join('There can only one.'.split())"
   ]
  },
  {
   "cell_type": "markdown",
   "id": "3a92e78e",
   "metadata": {},
   "source": [
    "#### 9. What are the methods for right-justifying, left-justifying, and centering a string?"
   ]
  },
  {
   "cell_type": "markdown",
   "id": "9d1d5301",
   "metadata": {},
   "source": [
    "**Ans:** The `rjust()`,`ljust()`,`center()` string methods, respectively"
   ]
  },
  {
   "cell_type": "markdown",
   "id": "07e8c02d",
   "metadata": {},
   "source": [
    "#### 10. What is the best way to remove whitespace characters from the start or end?"
   ]
  },
  {
   "cell_type": "code",
   "execution_count": 35,
   "id": "4d416e9e",
   "metadata": {},
   "outputs": [],
   "source": [
    "str = \"---MEHULRNAYAK---\""
   ]
  },
  {
   "cell_type": "code",
   "execution_count": 39,
   "id": "6b42af30",
   "metadata": {},
   "outputs": [
    {
     "name": "stdout",
     "output_type": "stream",
     "text": [
      "MEHULRNAYAK---\n"
     ]
    }
   ],
   "source": [
    "print(str.lstrip('-'))"
   ]
  },
  {
   "cell_type": "code",
   "execution_count": 40,
   "id": "2939820f",
   "metadata": {},
   "outputs": [
    {
     "name": "stdout",
     "output_type": "stream",
     "text": [
      "---MEHULRNAYAK\n"
     ]
    }
   ],
   "source": [
    "print(str.rstrip('-'))"
   ]
  },
  {
   "cell_type": "code",
   "execution_count": 41,
   "id": "9f383d29",
   "metadata": {},
   "outputs": [
    {
     "name": "stdout",
     "output_type": "stream",
     "text": [
      "MEHULRNAYAK\n"
     ]
    }
   ],
   "source": [
    "print(str.strip('-'))"
   ]
  },
  {
   "cell_type": "code",
   "execution_count": null,
   "id": "d3f4eb25",
   "metadata": {},
   "outputs": [],
   "source": []
  }
 ],
 "metadata": {
  "kernelspec": {
   "display_name": "Python 3 (ipykernel)",
   "language": "python",
   "name": "python3"
  },
  "language_info": {
   "codemirror_mode": {
    "name": "ipython",
    "version": 3
   },
   "file_extension": ".py",
   "mimetype": "text/x-python",
   "name": "python",
   "nbconvert_exporter": "python",
   "pygments_lexer": "ipython3",
   "version": "3.9.7"
  }
 },
 "nbformat": 4,
 "nbformat_minor": 5
}
